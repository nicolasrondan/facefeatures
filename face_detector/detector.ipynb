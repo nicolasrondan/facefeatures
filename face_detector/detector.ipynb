{
  "nbformat": 4,
  "nbformat_minor": 0,
  "metadata": {
    "kernelspec": {
      "display_name": "Python 3",
      "language": "python",
      "name": "python3"
    },
    "language_info": {
      "codemirror_mode": {
        "name": "ipython",
        "version": 3
      },
      "file_extension": ".py",
      "mimetype": "text/x-python",
      "name": "python",
      "nbconvert_exporter": "python",
      "pygments_lexer": "ipython3",
      "version": "3.7.3"
    },
    "colab": {
      "name": "detector.ipynb",
      "provenance": [],
      "collapsed_sections": [],
      "toc_visible": true,
      "include_colab_link": true
    }
  },
  "cells": [
    {
      "cell_type": "markdown",
      "metadata": {
        "id": "view-in-github",
        "colab_type": "text"
      },
      "source": [
        "<a href=\"https://colab.research.google.com/github/nicolasrondan/facefeatures/blob/master/face_detector/detector.ipynb\" target=\"_parent\"><img src=\"https://colab.research.google.com/assets/colab-badge.svg\" alt=\"Open In Colab\"/></a>"
      ]
    },
    {
      "cell_type": "markdown",
      "metadata": {
        "id": "hTyjvTLfIz6i",
        "colab_type": "text"
      },
      "source": [
        "## Montar disco de Google Drive\n",
        "\n",
        "Para proder acceder a datos guardados en su google drive desde un notebook de colab es necesario ejecutar el siguiente código\n",
        "\n",
        "*Esto va a ser necesario en todos los notebooks de este curso.*\n"
      ]
    },
    {
      "cell_type": "code",
      "metadata": {
        "id": "r65WXSOLOFF3",
        "colab_type": "code",
        "colab": {}
      },
      "source": [
        "from google.colab import drive\n",
        "drive.mount('/content/drive')"
      ],
      "execution_count": 0,
      "outputs": []
    },
    {
      "cell_type": "markdown",
      "metadata": {
        "id": "JPFCBmT2LaMj",
        "colab_type": "text"
      },
      "source": [
        "# Detección de caras\n",
        "\n",
        "El primer paso para el reconocimiento de caras es la detección de las mismas.\n",
        "\n",
        "Para ello vamos a utilizar un modelo pre-entrenado de `opencv`, que nos permite localizar en una imagen las caras presentes. Los parámetros del clasificador se encuentran guardados en el archivo `default.xml`, que contiene la información necesaria para detectar si hay una cara o no en la imagen.\n",
        "\n",
        "Lo primero que vamos a hacer es invocar al contructor de este clasificador (clasifica en las clases _cara_/_no cara_). Luego para cada cuadro que la cámara toma, le pedimos al clasificador que detecte las caras presentes en la imagen, y por último para cada cara detectada creamos un rectángulo alrededor como indicador.\n",
        "\n",
        "La idea de este ejercicio es no centrarse en la parte de clasificación _cara_/_no cara_, sino entrenar un nuevo clasificador para el reconocimiento de las caras, es decir identificar a quién pertenece cada cara detectada.\n"
      ]
    },
    {
      "cell_type": "code",
      "metadata": {
        "id": "OACBieDWLaMl",
        "colab_type": "code",
        "colab": {}
      },
      "source": [
        "from google.colab.patches import cv2_imshow\n",
        "import cv2\n",
        "\n",
        "# Definimos los archivos que vamos a usar:\n",
        "# Entrada de video\n",
        "VIDEO_INPUT_FILE = '/content/drive/My Drive/hack_iia/face_detector/video/video.mp4'\n",
        "# Salida de video\n",
        "VIDEO_OUPUT_FILE = '/content/drive/My Drive/hack_iia/face_detector/video/detection.mp4'\n",
        "# Clasificador de caras\n",
        "CASCADES_FILE = '/content/drive/My Drive/hack_iia/face_detector/default.xml'\n",
        "\n",
        "# Invocamos al contructor para la detección facial\n",
        "faceCascade = cv2.CascadeClassifier(CASCADES_FILE)\n",
        "\n",
        "#Video From Camera\n",
        "#cap = cv2.VideoCapture(0)\n",
        "#cap.set(3, 640)\n",
        "#cap.set(4, 480)\n",
        "\n",
        "cap = cv2.VideoCapture(VIDEO_INPUT_FILE)\n",
        "\n",
        "res=(640,480) #resulotion\n",
        "fourcc = cv2.VideoWriter_fourcc(*'MP4V') #codec\n",
        "out = cv2.VideoWriter(VIDEO_OUPUT_FILE, fourcc, 20.0, res)\n",
        "\n",
        "while True:\n",
        "    ret, img = cap.read()\n",
        "    \n",
        "    if ret is False:\n",
        "      break  \n",
        "    # Convertimos la imagen a escala de grises\n",
        "    gray = cv2.cvtColor(img, cv2.COLOR_BGR2GRAY)\n",
        "    \n",
        "    # Detección de caras propiamente dicha\n",
        "    faces = faceCascade.detectMultiScale(\n",
        "        gray,\n",
        "        scaleFactor=1.2,\n",
        "        minNeighbors=5,\n",
        "        minSize=(60, 60))\n",
        "    \n",
        "    # A cada cara detectada le agregamos un rectángulo alrededor\n",
        "    for (x, y, w, h) in faces:\n",
        "        cv2.rectangle(img, (x, y), (x + w, y + h), (255, 0, 0), 2)\n",
        "\n",
        "    #cv2_imshow(img)\n",
        "    out.write(img)\n",
        "    #Codigo para ejecutar en python fuera de colab\n",
        "    #cv2.imshow('video', img)\n",
        "    \n",
        "    # Esperamos a que se presione la tecla ESC para terminar\n",
        "    k = cv2.waitKey(30) & 0xff\n",
        "    if k == 27: \n",
        "        break\n",
        "\n",
        "out.release()           \n",
        "cap.release()\n",
        "cv2.destroyAllWindows()"
      ],
      "execution_count": 0,
      "outputs": []
    },
    {
      "cell_type": "code",
      "metadata": {
        "id": "u7DD80KOsojK",
        "colab_type": "code",
        "colab": {}
      },
      "source": [
        "from google.colab import files\n",
        "files.download(VIDEO_OUPUT_FILE)"
      ],
      "execution_count": 0,
      "outputs": []
    },
    {
      "cell_type": "markdown",
      "metadata": {
        "id": "3LyokbNFLaMp",
        "colab_type": "text"
      },
      "source": [
        "## FIN!"
      ]
    }
  ]
}