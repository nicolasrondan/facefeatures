{
  "nbformat": 4,
  "nbformat_minor": 0,
  "metadata": {
    "kernelspec": {
      "name": "python3",
      "display_name": "Python 3"
    },
    "language_info": {
      "codemirror_mode": {
        "name": "ipython",
        "version": 3
      },
      "file_extension": ".py",
      "mimetype": "text/x-python",
      "name": "python",
      "nbconvert_exporter": "python",
      "pygments_lexer": "ipython3",
      "version": "3.7.3"
    },
    "colab": {
      "name": "classify_digits.ipynb",
      "provenance": [],
      "collapsed_sections": [],
      "include_colab_link": true
    }
  },
  "cells": [
    {
      "cell_type": "markdown",
      "metadata": {
        "id": "view-in-github",
        "colab_type": "text"
      },
      "source": [
        "<a href=\"https://colab.research.google.com/github/nicolasrondan/facefeatures/blob/master/tensorflow_example/classify_digits.ipynb\" target=\"_parent\"><img src=\"https://colab.research.google.com/assets/colab-badge.svg\" alt=\"Open In Colab\"/></a>"
      ]
    },
    {
      "cell_type": "markdown",
      "metadata": {
        "collapsed": true,
        "id": "8F15pZJ_Pv0L",
        "colab_type": "text"
      },
      "source": [
        "# Convolutional Neural Network Example\n",
        "\n",
        "Build a convolutional neural network with TensorFlow.\n",
        "\n",
        "- Author: Aymeric Damien\n",
        "- Project: https://github.com/aymericdamien/TensorFlow-Examples/"
      ]
    },
    {
      "cell_type": "markdown",
      "metadata": {
        "id": "BT-VR75VPv0M",
        "colab_type": "text"
      },
      "source": [
        "## CNN Overview\n",
        "\n",
        "![CNN](http://personal.ie.cuhk.edu.hk/~ccloy/project_target_code/images/fig3.png)\n",
        "\n",
        "## MNIST Dataset Overview\n",
        "\n",
        "This example is using MNIST handwritten digits. The dataset contains 60,000 examples for training and 10,000 examples for testing. The digits have been size-normalized and centered in a fixed-size image (28x28 pixels) with values from 0 to 1. For simplicity, each image has been flattened and converted to a 1-D numpy array of 784 features (28*28).\n",
        "\n",
        "![MNIST Dataset](http://neuralnetworksanddeeplearning.com/images/mnist_100_digits.png)\n",
        "\n",
        "More info: http://yann.lecun.com/exdb/mnist/"
      ]
    },
    {
      "cell_type": "code",
      "metadata": {
        "id": "TJyfh4HJPv0N",
        "colab_type": "code",
        "colab": {}
      },
      "source": [
        "%tensorflow_version 2.x\n",
        "\n",
        "from __future__ import absolute_import, division, print_function\n",
        "\n",
        "import tensorflow as tf\n",
        "from tensorflow.keras import Model, layers\n",
        "import numpy as np\n",
        "import time\n",
        "import matplotlib.pyplot as plt\n",
        "from sklearn.metrics import confusion_matrix, average_precision_score\n",
        "import seaborn as sns\n"
      ],
      "execution_count": 0,
      "outputs": []
    },
    {
      "cell_type": "code",
      "metadata": {
        "id": "QsCZXn10QezB",
        "colab_type": "code",
        "colab": {}
      },
      "source": [
        "print(tf.__version__)"
      ],
      "execution_count": 0,
      "outputs": []
    },
    {
      "cell_type": "code",
      "metadata": {
        "id": "W8Tb91cEQWu5",
        "colab_type": "code",
        "colab": {}
      },
      "source": [
        "%load_ext tensorboard"
      ],
      "execution_count": 0,
      "outputs": []
    },
    {
      "cell_type": "code",
      "metadata": {
        "id": "4i8c75LvPv0R",
        "colab_type": "code",
        "colab": {}
      },
      "source": [
        "# MNIST dataset parameters.\n",
        "num_classes = 10 # total classes (0-9 digits).\n",
        "\n",
        "# Training parameters.\n",
        "learning_rate = 0.001\n",
        "training_steps = 200\n",
        "batch_size = 128\n",
        "display_step = 10\n",
        "\n",
        "# Network parameters.\n",
        "conv1_filters = 32 # number of filters for 1st conv layer.\n",
        "conv2_filters = 64 # number of filters for 2nd conv layer.\n",
        "fc1_units = 1024 # number of neurons for 1st fully-connected layer."
      ],
      "execution_count": 0,
      "outputs": []
    },
    {
      "cell_type": "code",
      "metadata": {
        "id": "kss9dJBXQrCV",
        "colab_type": "code",
        "colab": {}
      },
      "source": [
        "# Prepare MNIST data.\n",
        "from tensorflow.keras.datasets import mnist\n",
        "(x_train, y_train), (x_test, y_test) = mnist.load_data()\n",
        "# Convert to float32.\n",
        "x_train, x_test = np.array(x_train, np.float32), np.array(x_test, np.float32)\n",
        "# Normalize images value from [0, 255] to [0, 1].\n",
        "x_train, x_test = x_train / 255., x_test / 255."
      ],
      "execution_count": 0,
      "outputs": []
    },
    {
      "cell_type": "code",
      "metadata": {
        "id": "Neqzz38Lujs3",
        "colab_type": "code",
        "colab": {}
      },
      "source": [
        "# Shuffle Training Data\n",
        "indexes = np.random.permutation(x_train.shape[0])\n",
        "\n",
        "x_train = x_train[indexes]\n",
        "y_train = y_train[indexes]\n",
        "\n",
        "# now set-aside 10% of the train_data/labels as the validation set\n",
        "val_perc = 0.10\n",
        "val_count = int(val_perc * x_train.shape[0])\n",
        "\n",
        "# first pick validation set from train_data/labels\n",
        "x_val = x_train[:val_count,:]\n",
        "y_val = y_train[:val_count]\n",
        "\n",
        "# leave rest in training set\n",
        "x_train = x_train[val_count:,:]\n",
        "y_train = y_train[val_count:]\n",
        "\n",
        "print('Training Samples {}'.format(x_train.shape[0]))\n",
        "print('Validation Samples {}'.format(x_val.shape[0]))\n",
        "print('Test Samples {}'.format(x_test.shape[0]))"
      ],
      "execution_count": 0,
      "outputs": []
    },
    {
      "cell_type": "code",
      "metadata": {
        "id": "Si23HgQ1Tgfa",
        "colab_type": "code",
        "colab": {}
      },
      "source": [
        "# Visualize Random Digits\n",
        "rand_14 = np.random.randint(0, x_train.shape[0],14)\n",
        "sample_digits = x_train[rand_14]\n",
        "sample_labels = y_train[rand_14]\n",
        "# code to view the images\n",
        "num_rows, num_cols = 2, 7\n",
        "f, ax = plt.subplots(num_rows, num_cols, figsize=(12,5),\n",
        "                     gridspec_kw={'wspace':0.03, 'hspace':0.01}, \n",
        "                     squeeze=True)\n",
        "\n",
        "for r in range(num_rows):\n",
        "    for c in range(num_cols):\n",
        "        image_index = r * 7 + c\n",
        "        ax[r,c].axis(\"off\")\n",
        "        ax[r,c].imshow(sample_digits[image_index], cmap='gray')\n",
        "        ax[r,c].set_title('No. %d' % sample_labels[image_index])\n",
        "plt.show()\n",
        "plt.close()"
      ],
      "execution_count": 0,
      "outputs": []
    },
    {
      "cell_type": "code",
      "metadata": {
        "id": "J3LDXWFCRA2O",
        "colab_type": "code",
        "colab": {}
      },
      "source": [
        "# Use tf.data API to shuffle and batch data.\n",
        "train_data = tf.data.Dataset.from_tensor_slices((x_train, y_train))\n",
        "train_data = train_data.repeat().shuffle(5000).batch(batch_size).prefetch(1)"
      ],
      "execution_count": 0,
      "outputs": []
    },
    {
      "cell_type": "code",
      "metadata": {
        "id": "ErVgyZcTPv0U",
        "colab_type": "code",
        "colab": {}
      },
      "source": [
        "# Create TF Model.\n",
        "class ConvNet(Model):\n",
        "    # Set layers.\n",
        "    def __init__(self):\n",
        "        super(ConvNet, self).__init__()\n",
        "        # Convolution Layer with 32 filters and a kernel size of 5.\n",
        "        self.conv1 = layers.Conv2D(32, kernel_size=5, activation=tf.nn.relu)\n",
        "        # Max Pooling (down-sampling) with kernel size of 2 and strides of 2. \n",
        "        self.maxpool1 = layers.MaxPool2D(2, strides=2)\n",
        "\n",
        "        # Convolution Layer with 64 filters and a kernel size of 3.\n",
        "        self.conv2 = layers.Conv2D(64, kernel_size=3, activation=tf.nn.relu)\n",
        "        # Max Pooling (down-sampling) with kernel size of 2 and strides of 2. \n",
        "        self.maxpool2 = layers.MaxPool2D(2, strides=2)\n",
        "\n",
        "        # Flatten the data to a 1-D vector for the fully connected layer.\n",
        "        self.flatten = layers.Flatten()\n",
        "\n",
        "        # Fully connected layer.\n",
        "        self.fc1 = layers.Dense(1024)\n",
        "        # Apply Dropout (if is_training is False, dropout is not applied).\n",
        "        self.dropout = layers.Dropout(rate=0.5)\n",
        "\n",
        "        # Output layer, class prediction.\n",
        "        self.out = layers.Dense(num_classes)\n",
        "\n",
        "    # Set forward pass.\n",
        "    def call(self, x, is_training=False):\n",
        "        x = tf.reshape(x, [-1, 28, 28, 1])\n",
        "        x = self.conv1(x)\n",
        "        x = self.maxpool1(x)\n",
        "        x = self.conv2(x)\n",
        "        x = self.maxpool2(x)\n",
        "        x = self.flatten(x)\n",
        "        x = self.fc1(x)\n",
        "        x = self.dropout(x, training=is_training)\n",
        "        x = self.out(x)\n",
        "        if not is_training:\n",
        "            # tf cross entropy expect logits without softmax, so only\n",
        "            # apply softmax when not training.\n",
        "            x = tf.nn.softmax(x)\n",
        "        return x\n",
        "\n"
      ],
      "execution_count": 0,
      "outputs": []
    },
    {
      "cell_type": "code",
      "metadata": {
        "id": "OVNMqaEOPKkZ",
        "colab_type": "code",
        "colab": {}
      },
      "source": [
        "# Build neural network model.\n",
        "conv_net = ConvNet()"
      ],
      "execution_count": 0,
      "outputs": []
    },
    {
      "cell_type": "code",
      "metadata": {
        "id": "vw-NLjeQRTaK",
        "colab_type": "code",
        "colab": {}
      },
      "source": [
        "# Cross-Entropy Loss.\n",
        "# Note that this will apply 'softmax' to the logits.\n",
        "def cross_entropy_loss(x, y):\n",
        "    # Convert labels to int 64 for tf cross-entropy function.\n",
        "    y = tf.cast(y, tf.int64)\n",
        "    # Apply softmax to logits and compute cross-entropy.\n",
        "    loss = tf.nn.sparse_softmax_cross_entropy_with_logits(labels=y, logits=x)\n",
        "    # Average loss across the batch.\n",
        "    return tf.reduce_mean(loss)\n",
        "\n",
        "# Accuracy metric.\n",
        "def accuracy(y_pred, y_true):\n",
        "    # Predicted class is the index of highest score in prediction vector (i.e. argmax).\n",
        "    correct_prediction = tf.equal(tf.argmax(y_pred, 1), tf.cast(y_true, tf.int64))\n",
        "    return tf.reduce_mean(tf.cast(correct_prediction, tf.float32), axis=-1)\n",
        "\n",
        "# Stochastic gradient descent optimizer.\n",
        "optimizer = tf.optimizers.Adam(learning_rate)"
      ],
      "execution_count": 0,
      "outputs": []
    },
    {
      "cell_type": "code",
      "metadata": {
        "id": "p8y2N40QPv0X",
        "colab_type": "code",
        "colab": {}
      },
      "source": [
        "# Optimization process. \n",
        "def run_optimization(x, y):\n",
        "    # Wrap computation inside a GradientTape for automatic differentiation.\n",
        "    with tf.GradientTape() as g:\n",
        "        # Forward pass.\n",
        "        pred = conv_net(x, is_training=True)\n",
        "        # Compute loss.\n",
        "        loss = cross_entropy_loss(pred, y)\n",
        "        \n",
        "    # Variables to update, i.e. trainable variables.\n",
        "    trainable_variables = conv_net.trainable_variables\n",
        "\n",
        "    # Compute gradients.\n",
        "    gradients = g.gradient(loss, trainable_variables)\n",
        "    \n",
        "    # Update W and b following gradients.\n",
        "    optimizer.apply_gradients(zip(gradients, trainable_variables))"
      ],
      "execution_count": 0,
      "outputs": []
    },
    {
      "cell_type": "code",
      "metadata": {
        "id": "HcYHqp0eOPkv",
        "colab_type": "code",
        "colab": {}
      },
      "source": [
        "#Reset log folder\n",
        "! rm -rf /tmp/mylogs/*"
      ],
      "execution_count": 0,
      "outputs": []
    },
    {
      "cell_type": "code",
      "metadata": {
        "id": "JIZpWWMKPv0a",
        "colab_type": "code",
        "colab": {}
      },
      "source": [
        "# Run training for the given number of steps.\n",
        "\n",
        "writer_val = tf.summary.create_file_writer('/tmp/mylogs/validation')\n",
        "writer_train = tf.summary.create_file_writer('/tmp/mylogs/train')\n",
        "\n",
        "for step, (batch_x, batch_y) in enumerate( train_data.take(training_steps), 1):\n",
        "    # Run the optimization to update W and b values.\n",
        "\n",
        "      start = time.time()\n",
        "      run_optimization(batch_x, batch_y)\n",
        "      opt_time = time.time() - start\n",
        "        \n",
        "      if step % display_step == 0:\n",
        "\n",
        "        pred = conv_net(batch_x)\n",
        "        loss = cross_entropy_loss(pred, batch_y)\n",
        "        acc = accuracy(pred, batch_y)\n",
        "\n",
        "        #Do not do this in real life use batches!\n",
        "        val_pred = conv_net(x_val)\n",
        "        val_loss = cross_entropy_loss(val_pred, y_val)\n",
        "        val_acc = accuracy(val_pred, y_val)\n",
        "\n",
        "\n",
        "        with writer_train.as_default():\n",
        "        \n",
        "          tf.summary.scalar(\"loss\", loss , step=step)\n",
        "          tf.summary.scalar(\"accuracy\", acc, step=step)\n",
        "\n",
        "        with writer_val.as_default():\n",
        "\n",
        "        \n",
        "          tf.summary.scalar(\"loss\", val_loss , step=step)\n",
        "          tf.summary.scalar(\"accuracy\", val_acc, step=step)\n",
        "\n",
        "        print(\"step: %i, loss: %f, accuracy: %f, validation loss: %f validation accuracy: %f last step time: %f ms\" % (step, loss, acc, val_loss, val_acc,opt_time*1000))"
      ],
      "execution_count": 0,
      "outputs": []
    },
    {
      "cell_type": "code",
      "metadata": {
        "id": "UtLLAUC4VboM",
        "colab_type": "code",
        "colab": {}
      },
      "source": [
        "%tensorboard --logdir /tmp/mylogs/"
      ],
      "execution_count": 0,
      "outputs": []
    },
    {
      "cell_type": "code",
      "metadata": {
        "id": "APf0cj2hV5pu",
        "colab_type": "code",
        "colab": {}
      },
      "source": [
        ""
      ],
      "execution_count": 0,
      "outputs": []
    },
    {
      "cell_type": "code",
      "metadata": {
        "id": "Sj58u5VXPv0d",
        "colab_type": "code",
        "colab": {}
      },
      "source": [
        "test_pred = conv_net(x_test)\n",
        "print(\"Test Accuracy: %f\" % accuracy(test_pred, y_test))"
      ],
      "execution_count": 0,
      "outputs": []
    },
    {
      "cell_type": "code",
      "metadata": {
        "id": "SClaVKagUUdq",
        "colab_type": "code",
        "colab": {}
      },
      "source": [
        "# Predict 5 images from validation set.\n",
        "n_images = 5\n",
        "test_images = x_test[:n_images]\n",
        "predictions = conv_net(test_images)\n",
        "\n",
        "# Display image and model prediction.\n",
        "for i in range(n_images):\n",
        "    plt.imshow(np.reshape(test_images[i], [28, 28]), cmap='gray')\n",
        "    plt.show()\n",
        "    print(\"Model prediction: %i\" % np.argmax(predictions.numpy()[i]))\n"
      ],
      "execution_count": 0,
      "outputs": []
    },
    {
      "cell_type": "code",
      "metadata": {
        "id": "un6XKs-jRn8Z",
        "colab_type": "code",
        "colab": {}
      },
      "source": [
        "confusion_mtx = confusion_matrix(y_test, np.argmax(test_pred,axis=1) ) \n",
        "sns.heatmap(confusion_mtx, annot=True, fmt=\"d\")"
      ],
      "execution_count": 0,
      "outputs": []
    }
  ]
}